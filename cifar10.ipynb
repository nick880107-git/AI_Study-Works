{
  "nbformat": 4,
  "nbformat_minor": 0,
  "metadata": {
    "colab": {
      "name": "cifar10.ipynb",
      "provenance": [],
      "authorship_tag": "ABX9TyOBAo4RBhJ3cEnU8nHK3BiY",
      "include_colab_link": true
    },
    "kernelspec": {
      "name": "python3",
      "display_name": "Python 3"
    },
    "accelerator": "GPU"
  },
  "cells": [
    {
      "cell_type": "markdown",
      "metadata": {
        "id": "view-in-github",
        "colab_type": "text"
      },
      "source": [
        "<a href=\"https://colab.research.google.com/github/nick880107-git/AI_Study-Works/blob/master/cifar10.ipynb\" target=\"_parent\"><img src=\"https://colab.research.google.com/assets/colab-badge.svg\" alt=\"Open In Colab\"/></a>"
      ]
    },
    {
      "cell_type": "code",
      "metadata": {
        "id": "5zOQOYDYQY0B",
        "outputId": "78a84faa-65b9-40f8-a061-c9c093d177ab",
        "colab": {
          "base_uri": "https://localhost:8080/",
          "height": 34
        }
      },
      "source": [
        "import keras\n",
        "from keras.datasets import cifar10\n",
        "from keras.models import Sequential\n",
        "from keras.layers import Dense,Dropout,Flatten,BatchNormalization\n",
        "from keras.layers import Conv2D,MaxPooling2D\n",
        "from keras.layers import Activation\n",
        " \n",
        "from keras.preprocessing.image import ImageDataGenerator"
      ],
      "execution_count": null,
      "outputs": [
        {
          "output_type": "stream",
          "text": [
            "Using TensorFlow backend.\n"
          ],
          "name": "stderr"
        }
      ]
    },
    {
      "cell_type": "code",
      "metadata": {
        "id": "waJEIsmYQsZu",
        "outputId": "c8a3b86f-8ea9-4a23-ed07-e062b263fb69",
        "colab": {
          "base_uri": "https://localhost:8080/",
          "height": 101
        }
      },
      "source": [
        "batch_size = 128\n",
        "num_classes = 10\n",
        "epochs = 100\n",
        "(x_train, y_train), (x_test, y_test) = cifar10.load_data()\n",
        "x_train=x_train.reshape(x_train.shape[0],32,32,3).astype('float32')\n",
        "x_test=x_test.reshape(x_test.shape[0],32,32,3).astype('float32')\n",
        "x_train /= 255\n",
        "x_test /= 255\n",
        "print('x_train shape:', x_train.shape)\n",
        "print(x_train.shape[0], 'train samples')\n",
        "print(x_test.shape[0], 'test samples')\n",
        "\n",
        "y_train = keras.utils.to_categorical(y_train, num_classes)\n",
        "y_test = keras.utils.to_categorical(y_test, num_classes)"
      ],
      "execution_count": null,
      "outputs": [
        {
          "output_type": "stream",
          "text": [
            "Downloading data from https://www.cs.toronto.edu/~kriz/cifar-10-python.tar.gz\n",
            "170500096/170498071 [==============================] - 4s 0us/step\n",
            "x_train shape: (50000, 32, 32, 3)\n",
            "50000 train samples\n",
            "10000 test samples\n"
          ],
          "name": "stdout"
        }
      ]
    },
    {
      "cell_type": "code",
      "metadata": {
        "id": "qOmjndHOQ0ws"
      },
      "source": [
        "#Model architecture\n",
        "model=Sequential()\n",
        "model.add(Conv2D(64, (3,3), padding='same', input_shape=(32,32,3)))\n",
        "model.add(Activation('relu'))\n",
        "model.add(BatchNormalization())\n",
        "model.add(Conv2D(64, (3,3), padding='same', input_shape=(32,32,3)))\n",
        "model.add(Activation('relu'))\n",
        "model.add(BatchNormalization())\n",
        "model.add(MaxPooling2D(pool_size=(2,2)))\n",
        "model.add(Dropout(0.5))\n",
        "model.add(Conv2D(128, (3,3), padding='same', input_shape=(32,32,3)))\n",
        "model.add(Activation('relu'))\n",
        "model.add(BatchNormalization())\n",
        "model.add(Conv2D(256, (3,3), padding='same', input_shape=(32,32,3)))\n",
        "model.add(Activation('relu'))\n",
        "model.add(BatchNormalization())\n",
        "model.add(Conv2D(256, (3,3), padding='same', input_shape=(32,32,3)))\n",
        "model.add(Activation('relu'))\n",
        "model.add(BatchNormalization())\n",
        "model.add(MaxPooling2D(pool_size=(2,2)))\n",
        "model.add(Dropout(0.3))\n",
        "model.add(Conv2D(512, (3,3), padding='same', input_shape=(32,32,3)))\n",
        "model.add(Activation('relu'))\n",
        "model.add(BatchNormalization())\n",
        "model.add(Conv2D(512, (3,3), padding='same', input_shape=(32,32,3)))\n",
        "model.add(Activation('relu'))\n",
        "model.add(BatchNormalization())\n",
        "model.add(MaxPooling2D(pool_size=(2,2)))\n",
        "model.add(Dropout(0.2))\n",
        "model.add(Flatten())\n",
        "model.add(Dense(4096, activation='relu'))\n",
        "model.add(BatchNormalization())\n",
        "Dropout(0.5)\n",
        "model.add(Dense(num_classes, activation='softmax'))\n",
        "\n",
        "\n",
        "datagen = ImageDataGenerator(\n",
        "    rotation_range = 15,\n",
        "    width_shift_range = 0.1,\n",
        "    height_shift_range=0.1,\n",
        "    horizontal_flip = True,\n",
        "    \n",
        ")\n",
        "datagen.fit(x_train)"
      ],
      "execution_count": null,
      "outputs": []
    },
    {
      "cell_type": "code",
      "metadata": {
        "id": "FGwvvOFGRAs2",
        "outputId": "7c3a7a4d-a89e-4685-f6bf-b90f3cd26699",
        "colab": {
          "base_uri": "https://localhost:8080/",
          "height": 1000
        }
      },
      "source": [
        "model.compile(loss=keras.losses.categorical_crossentropy,optimizer=keras.optimizers.Adam(),metrics=['accuracy'])\n",
        "model.fit_generator(datagen.flow(x_train,y_train,batch_size=batch_size),epochs=epochs,verbose=1,validation_data=(x_test,y_test))\n",
        "score = model.evaluate(x_test, y_test, verbose=0)\n",
        "print('Test loss:',score[0])\n",
        "print('Test accuracy:', score[1])"
      ],
      "execution_count": null,
      "outputs": [
        {
          "output_type": "stream",
          "text": [
            "Epoch 1/100\n",
            "391/391 [==============================] - 88s 226ms/step - loss: 1.6195 - accuracy: 0.4807 - val_loss: 3.7604 - val_accuracy: 0.2228\n",
            "Epoch 2/100\n",
            "391/391 [==============================] - 79s 201ms/step - loss: 1.2517 - accuracy: 0.6131 - val_loss: 1.4787 - val_accuracy: 0.5997\n",
            "Epoch 3/100\n",
            "391/391 [==============================] - 79s 201ms/step - loss: 1.0533 - accuracy: 0.6779 - val_loss: 1.0921 - val_accuracy: 0.7028\n",
            "Epoch 4/100\n",
            "391/391 [==============================] - 79s 201ms/step - loss: 0.9262 - accuracy: 0.7225 - val_loss: 0.7686 - val_accuracy: 0.7555\n",
            "Epoch 5/100\n",
            "391/391 [==============================] - 79s 201ms/step - loss: 0.8281 - accuracy: 0.7451 - val_loss: 0.6686 - val_accuracy: 0.7786\n",
            "Epoch 6/100\n",
            "391/391 [==============================] - 79s 201ms/step - loss: 0.7123 - accuracy: 0.7686 - val_loss: 0.7645 - val_accuracy: 0.7446\n",
            "Epoch 7/100\n",
            "391/391 [==============================] - 79s 201ms/step - loss: 0.6156 - accuracy: 0.7896 - val_loss: 0.8779 - val_accuracy: 0.7494\n",
            "Epoch 8/100\n",
            "391/391 [==============================] - 79s 201ms/step - loss: 0.6058 - accuracy: 0.7960 - val_loss: 0.9166 - val_accuracy: 0.7235\n",
            "Epoch 9/100\n",
            "391/391 [==============================] - 79s 201ms/step - loss: 0.5795 - accuracy: 0.8035 - val_loss: 0.6532 - val_accuracy: 0.7935\n",
            "Epoch 10/100\n",
            "391/391 [==============================] - 79s 201ms/step - loss: 0.5258 - accuracy: 0.8208 - val_loss: 0.8850 - val_accuracy: 0.7471\n",
            "Epoch 11/100\n",
            "391/391 [==============================] - 79s 201ms/step - loss: 0.4649 - accuracy: 0.8396 - val_loss: 0.4893 - val_accuracy: 0.8496\n",
            "Epoch 12/100\n",
            "391/391 [==============================] - 79s 201ms/step - loss: 0.4679 - accuracy: 0.8406 - val_loss: 0.7880 - val_accuracy: 0.7698\n",
            "Epoch 13/100\n",
            "391/391 [==============================] - 79s 201ms/step - loss: 0.4397 - accuracy: 0.8500 - val_loss: 0.7669 - val_accuracy: 0.7768\n",
            "Epoch 14/100\n",
            "391/391 [==============================] - 79s 201ms/step - loss: 0.4344 - accuracy: 0.8525 - val_loss: 0.6812 - val_accuracy: 0.7967\n",
            "Epoch 15/100\n",
            "391/391 [==============================] - 79s 201ms/step - loss: 0.4162 - accuracy: 0.8558 - val_loss: 0.5689 - val_accuracy: 0.8219\n",
            "Epoch 16/100\n",
            "391/391 [==============================] - 79s 201ms/step - loss: 0.4004 - accuracy: 0.8637 - val_loss: 0.7907 - val_accuracy: 0.7662\n",
            "Epoch 17/100\n",
            "391/391 [==============================] - 79s 201ms/step - loss: 0.4767 - accuracy: 0.8432 - val_loss: 1.0811 - val_accuracy: 0.7228\n",
            "Epoch 18/100\n",
            "391/391 [==============================] - 79s 201ms/step - loss: 0.4123 - accuracy: 0.8593 - val_loss: 0.5308 - val_accuracy: 0.8383\n",
            "Epoch 19/100\n",
            "391/391 [==============================] - 79s 201ms/step - loss: 0.3563 - accuracy: 0.8756 - val_loss: 0.6086 - val_accuracy: 0.8482\n",
            "Epoch 20/100\n",
            "391/391 [==============================] - 79s 201ms/step - loss: 0.3480 - accuracy: 0.8804 - val_loss: 0.6881 - val_accuracy: 0.8108\n",
            "Epoch 21/100\n",
            "391/391 [==============================] - 79s 201ms/step - loss: 0.3360 - accuracy: 0.8845 - val_loss: 0.4378 - val_accuracy: 0.8612\n",
            "Epoch 22/100\n",
            "391/391 [==============================] - 79s 201ms/step - loss: 0.3122 - accuracy: 0.8927 - val_loss: 0.4355 - val_accuracy: 0.8642\n",
            "Epoch 23/100\n",
            "391/391 [==============================] - 79s 201ms/step - loss: 0.3217 - accuracy: 0.8905 - val_loss: 0.5854 - val_accuracy: 0.8304\n",
            "Epoch 24/100\n",
            "391/391 [==============================] - 79s 201ms/step - loss: 0.2996 - accuracy: 0.8967 - val_loss: 0.4406 - val_accuracy: 0.8663\n",
            "Epoch 25/100\n",
            "391/391 [==============================] - 79s 201ms/step - loss: 0.2809 - accuracy: 0.9018 - val_loss: 0.6797 - val_accuracy: 0.8101\n",
            "Epoch 26/100\n",
            "391/391 [==============================] - 79s 201ms/step - loss: 0.3186 - accuracy: 0.8893 - val_loss: 0.4887 - val_accuracy: 0.8553\n",
            "Epoch 27/100\n",
            "391/391 [==============================] - 79s 201ms/step - loss: 0.2779 - accuracy: 0.9046 - val_loss: 0.4608 - val_accuracy: 0.8627\n",
            "Epoch 28/100\n",
            "391/391 [==============================] - 79s 201ms/step - loss: 0.2732 - accuracy: 0.9049 - val_loss: 0.4741 - val_accuracy: 0.8637\n",
            "Epoch 29/100\n",
            "391/391 [==============================] - 79s 201ms/step - loss: 0.2406 - accuracy: 0.9157 - val_loss: 0.3887 - val_accuracy: 0.8822\n",
            "Epoch 30/100\n",
            "391/391 [==============================] - 79s 201ms/step - loss: 0.2409 - accuracy: 0.9156 - val_loss: 0.6105 - val_accuracy: 0.8463\n",
            "Epoch 31/100\n",
            "391/391 [==============================] - 79s 201ms/step - loss: 0.2519 - accuracy: 0.9140 - val_loss: 0.7399 - val_accuracy: 0.8134\n",
            "Epoch 32/100\n",
            "391/391 [==============================] - 79s 201ms/step - loss: 0.2368 - accuracy: 0.9177 - val_loss: 0.4984 - val_accuracy: 0.8605\n",
            "Epoch 33/100\n",
            "391/391 [==============================] - 79s 201ms/step - loss: 0.2094 - accuracy: 0.9257 - val_loss: 0.5707 - val_accuracy: 0.8490\n",
            "Epoch 34/100\n",
            "391/391 [==============================] - 79s 201ms/step - loss: 0.1986 - accuracy: 0.9306 - val_loss: 0.4878 - val_accuracy: 0.8672\n",
            "Epoch 35/100\n",
            "391/391 [==============================] - 79s 201ms/step - loss: 0.2201 - accuracy: 0.9258 - val_loss: 0.4259 - val_accuracy: 0.8795\n",
            "Epoch 36/100\n",
            "391/391 [==============================] - 79s 201ms/step - loss: 0.1968 - accuracy: 0.9309 - val_loss: 0.4293 - val_accuracy: 0.8808\n",
            "Epoch 37/100\n",
            "391/391 [==============================] - 79s 201ms/step - loss: 0.1980 - accuracy: 0.9321 - val_loss: 0.5589 - val_accuracy: 0.8571\n",
            "Epoch 38/100\n",
            "391/391 [==============================] - 79s 201ms/step - loss: 0.1913 - accuracy: 0.9331 - val_loss: 0.5705 - val_accuracy: 0.8628\n",
            "Epoch 39/100\n",
            "391/391 [==============================] - 79s 201ms/step - loss: 0.1816 - accuracy: 0.9362 - val_loss: 0.4526 - val_accuracy: 0.8755\n",
            "Epoch 40/100\n",
            "391/391 [==============================] - 79s 201ms/step - loss: 0.1816 - accuracy: 0.9354 - val_loss: 0.4854 - val_accuracy: 0.8668\n",
            "Epoch 41/100\n",
            "391/391 [==============================] - 79s 201ms/step - loss: 0.1765 - accuracy: 0.9389 - val_loss: 0.5013 - val_accuracy: 0.8691\n",
            "Epoch 42/100\n",
            "391/391 [==============================] - 79s 201ms/step - loss: 0.1660 - accuracy: 0.9421 - val_loss: 0.4826 - val_accuracy: 0.8795\n",
            "Epoch 43/100\n",
            "391/391 [==============================] - 79s 201ms/step - loss: 0.1913 - accuracy: 0.9360 - val_loss: 0.4787 - val_accuracy: 0.8785\n",
            "Epoch 44/100\n",
            "391/391 [==============================] - 79s 201ms/step - loss: 0.1623 - accuracy: 0.9433 - val_loss: 0.4939 - val_accuracy: 0.8799\n",
            "Epoch 45/100\n",
            "391/391 [==============================] - 79s 201ms/step - loss: 0.1615 - accuracy: 0.9432 - val_loss: 0.4250 - val_accuracy: 0.8896\n",
            "Epoch 46/100\n",
            "156/391 [==========>...................] - ETA: 45s - loss: 0.1453 - accuracy: 0.9480"
          ],
          "name": "stdout"
        }
      ]
    },
    {
      "cell_type": "code",
      "metadata": {
        "id": "DDfiEXN2RDeh"
      },
      "source": [
        ""
      ],
      "execution_count": null,
      "outputs": []
    }
  ]
}