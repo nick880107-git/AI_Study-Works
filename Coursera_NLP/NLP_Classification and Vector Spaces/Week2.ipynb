{
  "nbformat": 4,
  "nbformat_minor": 0,
  "metadata": {
    "colab": {
      "name": "Week2.ipynb",
      "provenance": []
    },
    "kernelspec": {
      "name": "python3",
      "display_name": "Python 3"
    }
  },
  "cells": [
    {
      "cell_type": "code",
      "metadata": {
        "id": "f9x8A9wy0PR9"
      },
      "source": [
        "from nltk.corpus import stopwords, twitter_samples\r\n",
        "import numpy as np\r\n",
        "import pandas as pd\r\n",
        "import nltk\r\n",
        "import string\r\n",
        "import re\r\n",
        "from nltk.tokenize import TweetTokenizer\r\n",
        "from nltk.stem import PorterStemmer\r\n",
        "from os import getcwd\r\n"
      ],
      "execution_count": 1,
      "outputs": []
    },
    {
      "cell_type": "markdown",
      "metadata": {
        "id": "YP1IsEQT1KqI"
      },
      "source": [
        "# function:process_tweet()\r\n"
      ]
    },
    {
      "cell_type": "code",
      "metadata": {
        "id": "n-mSXgMs1IyS"
      },
      "source": [
        "# 字串處理函式\r\n",
        "\r\n",
        "def process_tweet(tweet):\r\n",
        "\r\n",
        "  '''\r\n",
        "  Input:\r\n",
        "      tweet: 一句話\r\n",
        "  Output:\r\n",
        "      tweets_clean: 處理過的字詞\r\n",
        "  '''\r\n",
        "  stemmer = PorterStemmer()\r\n",
        "  stopwords_english = stopwords.words('english')\r\n",
        "  # 使用python正規表示式套件，將字串中的特殊字元、符號、標籤及url全數抽換\r\n",
        "  tweet = re.sub(r'\\$\\w*', '', tweet)\r\n",
        "  tweet = re.sub(r'^RT[\\s]+', '', tweet)\r\n",
        "  tweet = re.sub(r'https?:\\/\\/.*[\\r\\n]*', '', tweet)\r\n",
        "  tweet = re.sub(r'#', '', tweet)\r\n",
        "  # 將處理過的字串進行斷句(strip_handles用以刪除推文中標記的人事物，reduce_len則是避免重複擷取推文中重複過多的字詞)\r\n",
        "  tokenizer = TweetTokenizer(preserve_case=False, strip_handles=True, reduce_len=True)\r\n",
        "  tweet_tokens = tokenizer.tokenize(tweet)\r\n",
        "\r\n",
        "  tweets_clean = []\r\n",
        "  for word in tweet_tokens:\r\n",
        "      if (word not in stopwords_english and word not in string.punctuation):  # 去除連接詞&標點符號\r\n",
        "          stem_word = stemmer.stem(word)  # 將類似的字詞進行詞幹提取\r\n",
        "          tweets_clean.append(stem_word)   # 加入tweets_clean\r\n",
        "\r\n",
        "  return tweets_clean"
      ],
      "execution_count": 2,
      "outputs": []
    },
    {
      "cell_type": "markdown",
      "metadata": {
        "id": "Q-23r3_k1X-a"
      },
      "source": [
        "# function:build_freqs()"
      ]
    },
    {
      "cell_type": "code",
      "metadata": {
        "id": "s752c6Br1Xci"
      },
      "source": [
        "# 字詞頻率計算函式\r\n",
        "\r\n",
        "def build_freqs(result,tweets,ys):\r\n",
        "\r\n",
        "  for y, tweet in zip(ys, tweets):\r\n",
        "      for word in process_tweet(tweet):\r\n",
        "          pair = (word, y) \r\n",
        "          if pair in result:\r\n",
        "              result[pair] += 1 \r\n",
        "          else:\r\n",
        "              result[pair] = 1  \r\n",
        "  return result\r\n"
      ],
      "execution_count": 3,
      "outputs": []
    },
    {
      "cell_type": "markdown",
      "metadata": {
        "id": "4X--Ym7l1N3p"
      },
      "source": [
        "# Prepare Data"
      ]
    },
    {
      "cell_type": "code",
      "metadata": {
        "colab": {
          "base_uri": "https://localhost:8080/"
        },
        "id": "nmh823P904WD",
        "outputId": "1f57f8f1-3feb-49ae-e3b5-a579387398c4"
      },
      "source": [
        "# 下載stopwords\r\n",
        "nltk.download('stopwords')\r\n",
        "\r\n",
        "# 下載tweets\r\n",
        "nltk.download('twitter_samples')\r\n",
        "all_positive_tweets = twitter_samples.strings('positive_tweets.json')\r\n",
        "all_negative_tweets = twitter_samples.strings('negative_tweets.json')\r\n",
        "\r\n",
        "# 切分trainning data 及 test data\r\n",
        "train_pos = all_positive_tweets[:4000]\r\n",
        "train_neg = all_negative_tweets[:4000]\r\n",
        "test_pos = all_positive_tweets[4000:]\r\n",
        "test_neg = all_negative_tweets[4000:]\r\n",
        "\r\n",
        "train_x = train_pos + train_neg \r\n",
        "test_x = test_pos + test_neg\r\n",
        "\r\n",
        "# 製作y label\r\n",
        "train_y = np.append(np.ones(len(train_pos)), np.zeros(len(train_neg)))\r\n",
        "test_y = np.append(np.ones(len(test_pos)), np.zeros(len(test_neg)))"
      ],
      "execution_count": 4,
      "outputs": [
        {
          "output_type": "stream",
          "text": [
            "[nltk_data] Downloading package stopwords to /root/nltk_data...\n",
            "[nltk_data]   Package stopwords is already up-to-date!\n",
            "[nltk_data] Downloading package twitter_samples to /root/nltk_data...\n",
            "[nltk_data]   Package twitter_samples is already up-to-date!\n"
          ],
          "name": "stdout"
        }
      ]
    },
    {
      "cell_type": "code",
      "metadata": {
        "id": "RTJD5Yuy1yIq"
      },
      "source": [
        "# 以trainning data 製作 frequency dictionary\r\n",
        "freqs = build_freqs({},train_x,train_y)"
      ],
      "execution_count": 5,
      "outputs": []
    },
    {
      "cell_type": "markdown",
      "metadata": {
        "id": "-iZ6-VJD2szQ"
      },
      "source": [
        "# Define Naive_Bayes\r\n",
        "\r\n",
        "\r\n",
        "\r\n",
        "1.   獲得標註好的資料集(pos/neg)\r\n",
        "2.   對tweet進行預處理\r\n",
        "3.   計算freq(w,calss)\r\n",
        "4.   計算P(w/pos) , P(w/neg)\r\n",
        "   *   使用laplacian smoothing處理未在訓練集中的字詞\r\n",
        "   *   ![擷取.JPG](data:image/jpeg;base64,/9j/4AAQSkZJRgABAQEAYABgAAD/4RDgRXhpZgAATU0AKgAAAAgABAE7AAIAAAAHAAAISodpAAQAAAABAAAIUpydAAEAAAAOAAAQyuocAAcAAAgMAAAAPgAAAAAc6gAAAAgAAAAAAAAAAAAAAAAAAAAAAAAAAAAAAAAAAAAAAAAAAAAAAAAAAAAAAAAAAAAAAAAAAAAAAAAAAAAAAAAAAAAAAAAAAAAAAAAAAAAAAAAAAAAAAAAAAAAAAAAAAAAAAAAAAAAAAAAAAAAAAAAAAAAAAAAAAAAAAAAAAAAAAAAAAAAAAAAAAAAAAAAAAAAAAAAAAAAAAAAAAAAAAAAAAAAAAAAAAAAAAAAAAAAAAAAAAAAAAAAAAAAAAAAAAAAAAAAAAAAAAAAAAAAAAAAAAAAAAAAAAAAAAAAAAAAAAAAAAAAAAAAAAAAAAAAAAAAAAAAAAAAAAAAAAAAAAAAAAAAAAAAAAAAAAAAAAAAAAAAAAAAAAAAAAAAAAAAAAAAAAAAAAAAAAAAAAAAAAAAAAAAAAAAAAAAAAAAAAAAAAAAAAAAAAAAAAAAAAAAAAAAAAAAAAAAAAAAAAAAAAAAAAAAAAAAAAAAAAAAAAAAAAAAAAAAAAAAAAAAAAAAAAAAAAAAAAAAAAAAAAAAAAAAAAAAAAAAAAAAAAAAAAAAAAAAAAAAAAAAAAAAAAAAAAAAAAAAAAAAAAAAAAAAAAAAAAAAAAAAAAAAAAAAAAAAAAAAAAAAAAAAAAAAAAAAAAAAAAAAAAAAAAAAAAAAAAAAAAAAAAAAAAAAAAAAAAAAAAAAAAAAAAAAAAAAAAAAAAAAAAAAAAAAAAAAAAAAAAAAAAAAAAAAAAAAAAAAAAAAAAAAAAAAAAAAAAAAAAAAAAAAAAAAAAAAAAAAAAAAAAAAAAAAAAAAAAAAAAAAAAAAAAAAAAAAAAAAAAAAAAAAAAAAAAAAAAAAAAAAAAAAAAAAAAAAAAAAAAAAAAAAAAAAAAAAAAAAAAAAAAAAAAAAAAAAAAAAAAAAAAAAAAAAAAAAAAAAAAAAAAAAAAAAAAAAAAAAAAAAAAAAAAAAAAAAAAAAAAAAAAAAAAAAAAAAAAAAAAAAAAAAAAAAAAAAAAAAAAAAAAAAAAAAAAAAAAAAAAAAAAAAAAAAAAAAAAAAAAAAAAAAAAAAAAAAAAAAAAAAAAAAAAAAAAAAAAAAAAAAAAAAAAAAAAAAAAAAAAAAAAAAAAAAAAAAAAAAAAAAAAAAAAAAAAAAAAAAAAAAAAAAAAAAAAAAAAAAAAAAAAAAAAAAAAAAAAAAAAAAAAAAAAAAAAAAAAAAAAAAAAAAAAAAAAAAAAAAAAAAAAAAAAAAAAAAAAAAAAAAAAAAAAAAAAAAAAAAAAAAAAAAAAAAAAAAAAAAAAAAAAAAAAAAAAAAAAAAAAAAAAAAAAAAAAAAAAAAAAAAAAAAAAAAAAAAAAAAAAAAAAAAAAAAAAAAAAAAAAAAAAAAAAAAAAAAAAAAAAAAAAAAAAAAAAAAAAAAAAAAAAAAAAAAAAAAAAAAAAAAAAAAAAAAAAAAAAAAAAAAAAAAAAAAAAAAAAAAAAAAAAAAAAAAAAAAAAAAAAAAAAAAAAAAAAAAAAAAAAAAAAAAAAAAAAAAAAAAAAAAAAAAAAAAAAAAAAAAAAAAAAAAAAAAAAAAAAAAAAAAAAAAAAAAAAAAAAAAAAAAAAAAAAAAAAAAAAAAAAAAAAAAAAAAAAAAAAAAAAAAAAAAAAAAAAAAAAAAAAAAAAAAAAAAAAAAAAAAAAAAAAAAAAAAAAAAAAAAAAAAAAAAAAAAAAAAAAAAAAAAAAAAAAAAAAAAAAAAAAAAAAAAAAAAAAAAAAAAAAAAAAAAAAAAAAAAAAAAAAAAAAAAAAAAAAAAAAAAAAAAAAAAAAAAAAAAAAAAAAAAAAAAAAAAAAAAAAAAAAAAAAAAAAAAAAAAAAAAAAAAAAAAAAAAAAAAAAAAAAAAAAAAAAAAAAAAAAAAAAAAAAAAAAAAAAAAAAAAAAAAAAAAAAAAAAAAAAAAAAAAAAAAAAAAAAAAAAAAAAAAAAAAAAAAAAAAAAAAAAAAAAAAAAAAAAAAAAAAAAAAAAAAAAAAAAAAAAAAAAAAAAAAAAAAAAAAAAAAAAAAAAAAAAAAAAAAAAAAAAAAAAAAAAAAAAAAAAAAAAAAAAAAAAAAAAAAAAAAAAAAAAAAAAAAAAAAAAAAAAAAAAAAAAAAAAAAAAAAAAAAAAAAAAAAAAAAAAAAAAAAAAAAAAAAAAAAAAAAAAAAAAAAAAAAAAAAAAAAAAAAAAAAAAAAAAAAAAAAAAAAAAAAAAAAAAAAAAAAAAAAAAAAAAAAAAAAAAAAAAAAAAAAAAAAAAAAAAAAAAAAAAAAAAAAAAAAAAAAAAAAAAAAAAAAAAAAAAAAAAAAAAAAAAAAAAAAAAAAAAAAAAAAAAAAAAAAAAAAAAAAAAAAAAAAAAAAAAAAAAAAAAAAAAAAAAAAAAAAAAAAAAAAAAAAAAAAAAAAAAAAAAAAAAAAAAAAAAAAAAAAAAAAAAAAAAAAAAAAAAAAAAAAAAAAAAAAAAAAAAAAAAAAAAAAAAAAAAAAAAAAAAAAAAAAAAAAAAAAAAAAAAAAAAAAAAAAAAAAAAAAAAAAAAAAAAAAAAAAAAAAAAAAAAAAAAAAAAAAAAAAAAAAAAAAAAAAAAAAAAAAAAAAAAAAAAAAAAAAAAAAAAAAAAAAAAAAAAAAAAAAAAAAAAAAAAAAAAAAAAAAAAAAAAAAAAAAAAAAAAAAAAAAAAAAAAAAAAAAAAAAAAAAAAAAAAAAAAAAAAAAAAAAAAAAAAAAAAAAAAAAAAAAAAAAAAAAAAAAAAFNoYURvdwAAAAWQAwACAAAAFAAAEKCQBAACAAAAFAAAELSSkQACAAAAAzYzAACSkgACAAAAAzYzAADqHAAHAAAIDAAACJQAAAAAHOoAAAAIAAAAAAAAAAAAAAAAAAAAAAAAAAAAAAAAAAAAAAAAAAAAAAAAAAAAAAAAAAAAAAAAAAAAAAAAAAAAAAAAAAAAAAAAAAAAAAAAAAAAAAAAAAAAAAAAAAAAAAAAAAAAAAAAAAAAAAAAAAAAAAAAAAAAAAAAAAAAAAAAAAAAAAAAAAAAAAAAAAAAAAAAAAAAAAAAAAAAAAAAAAAAAAAAAAAAAAAAAAAAAAAAAAAAAAAAAAAAAAAAAAAAAAAAAAAAAAAAAAAAAAAAAAAAAAAAAAAAAAAAAAAAAAAAAAAAAAAAAAAAAAAAAAAAAAAAAAAAAAAAAAAAAAAAAAAAAAAAAAAAAAAAAAAAAAAAAAAAAAAAAAAAAAAAAAAAAAAAAAAAAAAAAAAAAAAAAAAAAAAAAAAAAAAAAAAAAAAAAAAAAAAAAAAAAAAAAAAAAAAAAAAAAAAAAAAAAAAAAAAAAAAAAAAAAAAAAAAAAAAAAAAAAAAAAAAAAAAAAAAAAAAAAAAAAAAAAAAAAAAAAAAAAAAAAAAAAAAAAAAAAAAAAAAAAAAAAAAAAAAAAAAAAAAAAAAAAAAAAAAAAAAAAAAAAAAAAAAAAAAAAAAAAAAAAAAAAAAAAAAAAAAAAAAAAAAAAAAAAAAAAAAAAAAAAAAAAAAAAAAAAAAAAAAAAAAAAAAAAAAAAAAAAAAAAAAAAAAAAAAAAAAAAAAAAAAAAAAAAAAAAAAAAAAAAAAAAAAAAAAAAAAAAAAAAAAAAAAAAAAAAAAAAAAAAAAAAAAAAAAAAAAAAAAAAAAAAAAAAAAAAAAAAAAAAAAAAAAAAAAAAAAAAAAAAAAAAAAAAAAAAAAAAAAAAAAAAAAAAAAAAAAAAAAAAAAAAAAAAAAAAAAAAAAAAAAAAAAAAAAAAAAAAAAAAAAAAAAAAAAAAAAAAAAAAAAAAAAAAAAAAAAAAAAAAAAAAAAAAAAAAAAAAAAAAAAAAAAAAAAAAAAAAAAAAAAAAAAAAAAAAAAAAAAAAAAAAAAAAAAAAAAAAAAAAAAAAAAAAAAAAAAAAAAAAAAAAAAAAAAAAAAAAAAAAAAAAAAAAAAAAAAAAAAAAAAAAAAAAAAAAAAAAAAAAAAAAAAAAAAAAAAAAAAAAAAAAAAAAAAAAAAAAAAAAAAAAAAAAAAAAAAAAAAAAAAAAAAAAAAAAAAAAAAAAAAAAAAAAAAAAAAAAAAAAAAAAAAAAAAAAAAAAAAAAAAAAAAAAAAAAAAAAAAAAAAAAAAAAAAAAAAAAAAAAAAAAAAAAAAAAAAAAAAAAAAAAAAAAAAAAAAAAAAAAAAAAAAAAAAAAAAAAAAAAAAAAAAAAAAAAAAAAAAAAAAAAAAAAAAAAAAAAAAAAAAAAAAAAAAAAAAAAAAAAAAAAAAAAAAAAAAAAAAAAAAAAAAAAAAAAAAAAAAAAAAAAAAAAAAAAAAAAAAAAAAAAAAAAAAAAAAAAAAAAAAAAAAAAAAAAAAAAAAAAAAAAAAAAAAAAAAAAAAAAAAAAAAAAAAAAAAAAAAAAAAAAAAAAAAAAAAAAAAAAAAAAAAAAAAAAAAAAAAAAAAAAAAAAAAAAAAAAAAAAAAAAAAAAAAAAAAAAAAAAAAAAAAAAAAAAAAAAAAAAAAAAAAAAAAAAAAAAAAAAAAAAAAAAAAAAAAAAAAAAAAAAAAAAAAAAAAAAAAAAAAAAAAAAAAAAAAAAAAAAAAAAAAAAAAAAAAAAAAAAAAAAAAAAAAAAAAAAAAAAAAAAAAAAAAAAAAAAAAAAAAAAAAAAAAAAAAAAAAAAAAAAAAAAAAAAAAAAAAAAAAAAAAAAAAAAAAAAAAAAAAAAAAAAAAAAAAAAAAAAAAAAAAAAAAAAAAAAAAAAAAAAAAAAAAAAAAAAAAAAAAAAAAAAAAAAAAAAAAAAAAAAAAAAAAAAAAAAAAAAAAAAAAAAAAAAAAAAAAAAAAAAAAAAAAAAAAAAAAAAAAAAAAAAAAAAAAAAAAAAAAAAAAAAAAAAAAAAAAAAAAAAAAAAAAAAAAAAAAAAAAAAAAAAAAAAAAAAAAAAAAAAAAAAAAAAAAAAAAAAAAAAAAAAAAAAAAAAAAAAAAAAAAAAAAAAAAAAAAAAAAAAAAAAAAAAAAAAAAAAAAAAAAAAAAAAAAAAAAAAAAAAAAAAAAAAAAAAAAAAAAAAAAAAAAAAAAAAAAAAAAAAAAAAAAAAAAAAAAAAAAAAAAAAAAAAAAAAAAAAAAAAAAAAAAAAAAAAAAAAAAAAAAAAAAAAAAAAAAAAAAAAAAAAAAAAAAAAAAAAAAAAAAAAAAAAAAAAAAAAAAAAAAAAAAAAAAAAAAAAAAAAAAAAAAAAAAAAAAAAAAAAAAAAAAAAAAAAAAAAAAAAAAAAAAAAAAAAAAAAAAAAAAAAAAAAAAAAAAAAAAAAAAAAAAAAAAAAAAAAAAAAAAAAAAAAAAAAAAAAAAAAAAAAAAAAAAAAAAAAAAAAAAAAAAAAAAAAAAAAAAAAAAAAAAAAAAAAAAAAAAAAAAAAAAAAAAAAAAAAAAAAAAAAAAAAAAAAAAAAAAAAAAAAAAAAAAAAAAAAAAAAAAAAAAAAAAAAAAAAAAAAAAAAAAAAAAAAAAAAAAAAAAAAAAAAAAAAAAAAAAAAAAAAAAAAAAAAAAAAAAAAAAAAAAAAAAAAAAAAAAAAAAAAAAAAAAAAAAAAAAAAAAAAAAAAAAAAAAAAAAAAAAAAAAAAAAAAAAAAAAAAAAAAAAyMDIwOjEyOjE0IDE0OjI4OjA2ADIwMjA6MTI6MTQgMTQ6Mjg6MDYAAABTAGgAYQBEAG8AdwAAAP/hCxlodHRwOi8vbnMuYWRvYmUuY29tL3hhcC8xLjAvADw/eHBhY2tldCBiZWdpbj0n77u/JyBpZD0nVzVNME1wQ2VoaUh6cmVTek5UY3prYzlkJz8+DQo8eDp4bXBtZXRhIHhtbG5zOng9ImFkb2JlOm5zOm1ldGEvIj48cmRmOlJERiB4bWxuczpyZGY9Imh0dHA6Ly93d3cudzMub3JnLzE5OTkvMDIvMjItcmRmLXN5bnRheC1ucyMiPjxyZGY6RGVzY3JpcHRpb24gcmRmOmFib3V0PSJ1dWlkOmZhZjViZGQ1LWJhM2QtMTFkYS1hZDMxLWQzM2Q3NTE4MmYxYiIgeG1sbnM6ZGM9Imh0dHA6Ly9wdXJsLm9yZy9kYy9lbGVtZW50cy8xLjEvIi8+PHJkZjpEZXNjcmlwdGlvbiByZGY6YWJvdXQ9InV1aWQ6ZmFmNWJkZDUtYmEzZC0xMWRhLWFkMzEtZDMzZDc1MTgyZjFiIiB4bWxuczp4bXA9Imh0dHA6Ly9ucy5hZG9iZS5jb20veGFwLzEuMC8iPjx4bXA6Q3JlYXRlRGF0ZT4yMDIwLTEyLTE0VDE0OjI4OjA2LjYyNzwveG1wOkNyZWF0ZURhdGU+PC9yZGY6RGVzY3JpcHRpb24+PHJkZjpEZXNjcmlwdGlvbiByZGY6YWJvdXQ9InV1aWQ6ZmFmNWJkZDUtYmEzZC0xMWRhLWFkMzEtZDMzZDc1MTgyZjFiIiB4bWxuczpkYz0iaHR0cDovL3B1cmwub3JnL2RjL2VsZW1lbnRzLzEuMS8iPjxkYzpjcmVhdG9yPjxyZGY6U2VxIHhtbG5zOnJkZj0iaHR0cDovL3d3dy53My5vcmcvMTk5OS8wMi8yMi1yZGYtc3ludGF4LW5zIyI+PHJkZjpsaT5TaGFEb3c8L3JkZjpsaT48L3JkZjpTZXE+DQoJCQk8L2RjOmNyZWF0b3I+PC9yZGY6RGVzY3JpcHRpb24+PC9yZGY6UkRGPjwveDp4bXBtZXRhPg0KICAgICAgICAgICAgICAgICAgICAgICAgICAgICAgICAgICAgICAgICAgICAgICAgICAgICAgICAgICAgICAgICAgICAgICAgICAgICAgICAgICAgICAgICAgICAgICAgICAgIAogICAgICAgICAgICAgICAgICAgICAgICAgICAgICAgICAgICAgICAgICAgICAgICAgICAgICAgICAgICAgICAgICAgICAgICAgICAgICAgICAgICAgICAgICAgICAgICAgICAgCiAgICAgICAgICAgICAgICAgICAgICAgICAgICAgICAgICAgICAgICAgICAgICAgICAgICAgICAgICAgICAgICAgICAgICAgICAgICAgICAgICAgICAgICAgICAgICAgICAgICAKICAgICAgICAgICAgICAgICAgICAgICAgICAgICAgICAgICAgICAgICAgICAgICAgICAgICAgICAgICAgICAgICAgICAgICAgICAgICAgICAgICAgICAgICAgICAgICAgICAgIAogICAgICAgICAgICAgICAgICAgICAgICAgICAgICAgICAgICAgICAgICAgICAgICAgICAgICAgICAgICAgICAgICAgICAgICAgICAgICAgICAgICAgICAgICAgICAgICAgICAgCiAgICAgICAgICAgICAgICAgICAgICAgICAgICAgICAgICAgICAgICAgICAgICAgICAgICAgICAgICAgICAgICAgICAgICAgICAgICAgICAgICAgICAgICAgICAgICAgICAgICAKICAgICAgICAgICAgICAgICAgICAgICAgICAgICAgICAgICAgICAgICAgICAgICAgICAgICAgICAgICAgICAgICAgICAgICAgICAgICAgICAgICAgICAgICAgICAgICAgICAgIAogICAgICAgICAgICAgICAgICAgICAgICAgICAgICAgICAgICAgICAgICAgICAgICAgICAgICAgICAgICAgICAgICAgICAgICAgICAgICAgICAgICAgICAgICAgICAgICAgICAgCiAgICAgICAgICAgICAgICAgICAgICAgICAgICAgICAgICAgICAgICAgICAgICAgICAgICAgICAgICAgICAgICAgICAgICAgICAgICAgICAgICAgICAgICAgICAgICAgICAgICAKICAgICAgICAgICAgICAgICAgICAgICAgICAgICAgICAgICAgICAgICAgICAgICAgICAgICAgICAgICAgICAgICAgICAgICAgICAgICAgICAgICAgICAgICAgICAgICAgICAgIAogICAgICAgICAgICAgICAgICAgICAgICAgICAgICAgICAgICAgICAgICAgICAgICAgICAgICAgICAgICAgICAgICAgICAgICAgICAgICAgICAgICAgICAgICAgICAgICAgICAgCiAgICAgICAgICAgICAgICAgICAgICAgICAgICAgICAgICAgICAgICAgICAgICAgICAgICAgICAgICAgICAgICAgICAgICAgICAgICAgICAgICAgICAgICAgICAgICAgICAgICAKICAgICAgICAgICAgICAgICAgICAgICAgICAgICAgICAgICAgICAgICAgICAgICAgICAgICAgICAgICAgICAgICAgICAgICAgICAgICAgICAgICAgICAgICAgICAgICAgICAgIAogICAgICAgICAgICAgICAgICAgICAgICAgICAgICAgICAgICAgICAgICAgICAgICAgICAgICAgICAgICAgICAgICAgICAgICAgICAgICAgICAgICAgICAgICAgICAgICAgICAgCiAgICAgICAgICAgICAgICAgICAgICAgICAgICAgICAgICAgICAgICAgICAgICAgICAgICAgICAgICAgICAgICAgICAgICAgICAgICAgICAgICAgICAgICAgICAgICAgICAgICAKICAgICAgICAgICAgICAgICAgICAgICAgICAgICAgICAgICAgICAgICAgICAgICAgICAgICAgICAgICAgICAgICAgICAgICAgICAgICAgICAgICAgICAgICAgICAgICAgICAgIAogICAgICAgICAgICAgICAgICAgICAgICAgICAgICAgICAgICAgICAgICAgICAgICAgICAgICAgICAgICAgICAgICAgICAgICAgICAgICAgICAgICAgICAgICAgICAgICAgICAgCiAgICAgICAgICAgICAgICAgICAgICAgICAgICAgICAgICAgICAgICAgICAgICAgICAgICAgICAgICAgICAgICAgICAgICAgICAgICAgICAgICAgICAgICAgICAgICAgICAgICAKICAgICAgICAgICAgICAgICAgICAgICAgICAgICAgICAgICAgICAgICAgICAgICAgICAgICAgICAgICAgICAgICAgICAgICAgICAgICAgICAgICAgICAgICAgICAgICAgICAgIAogICAgICAgICAgICAgICAgICAgICAgICAgICAgICAgICAgICAgICAgICAgICAgICAgICAgICAgICAgICAgICAgICAgICAgICAgICAgICAgICAgICAgICAgICAgICAgICAgICAgCiAgICAgICAgICAgICAgICAgICAgICAgICAgICA8P3hwYWNrZXQgZW5kPSd3Jz8+/9sAQwAHBQUGBQQHBgUGCAcHCAoRCwoJCQoVDxAMERgVGhkYFRgXGx4nIRsdJR0XGCIuIiUoKSssKxogLzMvKjInKisq/9sAQwEHCAgKCQoUCwsUKhwYHCoqKioqKioqKioqKioqKioqKioqKioqKioqKioqKioqKioqKioqKioqKioqKioqKioq/8AAEQgAMADoAwEiAAIRAQMRAf/EAB8AAAEFAQEBAQEBAAAAAAAAAAABAgMEBQYHCAkKC//EALUQAAIBAwMCBAMFBQQEAAABfQECAwAEEQUSITFBBhNRYQcicRQygZGhCCNCscEVUtHwJDNicoIJChYXGBkaJSYnKCkqNDU2Nzg5OkNERUZHSElKU1RVVldYWVpjZGVmZ2hpanN0dXZ3eHl6g4SFhoeIiYqSk5SVlpeYmZqio6Slpqeoqaqys7S1tre4ubrCw8TFxsfIycrS09TV1tfY2drh4uPk5ebn6Onq8fLz9PX29/j5+v/EAB8BAAMBAQEBAQEBAQEAAAAAAAABAgMEBQYHCAkKC//EALURAAIBAgQEAwQHBQQEAAECdwABAgMRBAUhMQYSQVEHYXETIjKBCBRCkaGxwQkjM1LwFWJy0QoWJDThJfEXGBkaJicoKSo1Njc4OTpDREVGR0hJSlNUVVZXWFlaY2RlZmdoaWpzdHV2d3h5eoKDhIWGh4iJipKTlJWWl5iZmqKjpKWmp6ipqrKztLW2t7i5usLDxMXGx8jJytLT1NXW19jZ2uLj5OXm5+jp6vLz9PX29/j5+v/aAAwDAQACEQMRAD8A+kaKKwV8aaO91d28X9oSS2b7LhY9LuW8tsbsHEfoQfoaAN6ioLS+tb6wivrOeOa1lQSJMjZVl65zTNNvhqVhHeJGY4pvmi3Hlk/hYjtkc49CPpQBaooooAKKiNyovUtsHe0bSA9sAgf1qWgAoqjdazZWWqWWnXMkiXN8zLbjyXKuVUsRvA2g7VJwSOlXqACiio7iSSK3kkgi86RVyse7bu9s+tAElFQWV5DqFjDd2r74ZkDocY4Pt2PtU9ABRRWN4nubu302AWQG6a8ghcmUxkK0gBwwBIznH40dbA3ZNs2aK5qbX59GF9DNZGa00uGPNwblpJpcr8uV2csSMHk9c+1Pt/FM1zeR2aaZJHdOJZCJy8SmOPZllLxhjzIowVHIbnjk0A6IkDGT16e9Fc9p2pTarNJqNtbhn/s6CS3gkk2gGQMxBYA4zhBnB6VX0nxfPq1wsUNjCp2xSuPtDsVjeMsWA8v5iGGzHr3HSh6XT6BudTRVPSLs3+jWl20scxmhVzJHG0atkdQrfMB7Hmq11rEy6y2m2FmLqaKKOefdL5e1HcqCvBDH5HJGR0HrR1sHmatFcXaeJX0XRZWuElvFjur9mLzvJKscd0ygAYZiApxk4UYAJGRWlceLVt9QvLT7FIZLVGk8vD+ZIoK/Mi7PnX5iSULEYxjJxTasNpptHREgdTjtzRWbY3cHiHQjL8hhuA8Z8tywwCV6kAg8cggEHjtVO318R+HbG4u1uWuJ7WOVmgs5ZVyQM8qpA57GkI3qK5zxFqkp0GK90y4urUrfW0TB7cxF1eeNGBEi5xhjyMfWujo6XH0uFFFFAgJwMmvP/BZ1q+0PU9T0+GzjGt39xcx3U07lkTd5cbeWEwcIikDeM+oruL6yh1Gze1uTMIpBhvJmeJv++kII/OodG0ay0DS4tO0qOSK1hAWON53l2ADAALkkDjp0pW3v6f19wdjntT0aHwt8Ib/StPlk8uz0yWMSsfmPyncx9CSSateMZb7TPDC3+k30tmmntHJOsUcbeZbhl8wfOrYwm4jGOlb17Zw6hYXFndLvhuImikX1Vhgj8jVaxtJpNCWw1hFmYRG3lbPyzrjbu9tw6jsSfrVNt3fX+v6+YaaLochpWqapqWs3WlHX71Jftq3FtIsdsS9iVOG/1WNpZWGevK8+vaadei/tWmBhIEskYMEwlUhWK5yBweOR2OR2pLfSLC1uori3tY45obYWsbjqsQOQn0yKh0OyurG1uY71YQ0l3NMnlSFxtdywzlRg84xz9aNNv67fl+Nxef8AXX9fwsSP/wAjDB/16yf+hpWZr+p3cfiDRdFs52tP7SMzyXSorMixoDtXcCu4lh1B4DcdxrPDIdaimC/u1t3Qt6EspA/Q0mo6VZ6tFGl9EX8p/MidHaN42xjcrqQynBIyCOCRS6L5/mx9X/XQ5jUYb231fwdFql6l9cpqs4adYhHuH2a425A4yFwDjAJ7CqcHifUYta0yUX01/p2o6lNamZreKG2VAsrDy+fMJXywCxyrckdq6ifwvpVzcWM0sVx5mnuZLdlvJl2uQQWOG+YkEglsk5OetQt4L0Fwoaycokpmjj+0y7InOclF3YTO4ghQAQSDwad9V/XUP6/MwLXxNqi+IPI1Jry0Mks4g86OE2Fwqq5QRzICwbChiHI6N9KteEddv77V2stYOpW139m81rTUIIlViCoZoZIhh0BOOSTyuetbcfhfSImO23k2YcCJriRo1LghiqFtqsQzfMAD8x55NPg0e20lJZ9NtpJbgR7IkluXcKP7q72IReBkLgcDjgUlpv2/zB67FHwUzHR7xD92PVb1E9lFw+Kk1HxH9gv5Lfz9FXZji61XyZBkZ5Tyzj860dH07+ytJhtC4kdcvLIBjfIxLO2O2WJP41doHe7bMbSNe/tO8aHztJfCFsWWo+e/Ufw7F4565p/iOJZbCHdpV9qmy4R1hsbhIXVl+YOS0kYIBA4yeSOPTWooEcgbmVp7yWTwNr0jXyBLhZLu0ZXUDAG03WBx6AVXvNQlhhiH/CE68bjLpbvJf2u9mK8qZPtJbGF5zkfKDjgV29Zd0ceKNP3nEYtbhuem7dFj8cFv1pNX0GtzitB8VS6VotjeXOg3IjS2i0+eaPUrBoWkjJVQrm5AzksCOvT0rbt7uWzk86x8BavDMEkVXEtkcB33t/y89C3NUo2Syu4tS0dkutN1W9SK8FuwdYpxMAkvHqAEb/gB9au65rd1qHhLXZ7O3kgtYbW8WK8iuSkiSw5XoACMsrEEE8LzjOKvWTv/AF/X6BGN2o+n/A/ryK1hPq1ro2mWVx4U1yV9PZWEsUlnFu2gj7v2s9QcEEkfpi7PqN1cXS3MvgfXfOVNm5bmzXcuc7WAufmGexz1Pqatt4m8nV109rRpdztEjxOXLOsPmYPG1SRkYLZ6HGDkUj46hGnG7NsFQSGNy5lUQsEDYlzHuiJJxlwBgZzyBS/r9Bb6/wBdykLaNYZov+ED8QlJxKJAdQtjuEjbnBP2voWycdiTjGTRcXUFhYvJd+DNct7aL940k2o2irF8wbduN38vKg5GP1NdldSXS24awhhmkJHyzTGNceuQrfyqlppv7i3aLUrO0jgZWGYrlpS2T0IMa8de9Tr0He7uznT4vaCwht9P8OajG9/uNoz31g3nM3JZc3WXPOeP0q1Y69dNo9vDZ+DddNssSpH++sQQoGAObjg8UeDEugj6fexuBoTNYRu+f3oyCjc9f3Xl8+rMK2dD4t7sL9z7bPs/77Of/Ht1VpfTrr/l+Ytevp/X3GNqd9c6xarb3/gnxA8SyLIFS8tI/mVgynK3QPBAP4V0enTyXGnxSTWdxYuQQbe5dGkTBwMlGZTnGeGPXnnIqzRSAKKKKACiiigAooooAKKKKACiiigAooooAKKKKACiiigAooooAKimt0nkidsh4X3ow6g4wfwIJFS0UAFZtx4e0y5tru3mgbybwOJo1mdVbf8AfwARtJ7kYzk+prSooHdoyJfC2kTqFlt5HUSeZg3En39uwt97qV4Pr1PNSt4f05jlopS2woWNzJllIAIJ3ZIwo4NaVFAgAAAAGAOgpAAowoAHoKWigAPIPOPeora3jtLdIYgdq9yckknJJ9STkn61LRQAUUUUAFFFFAH/2Q==)\r\n",
        "\r\n",
        "5.   計算Loglikelihood\r\n",
        "  *   log(Dpos)-log(Dneg)   \r\n",
        "6.   計算Logprior\r\n",
        "  *   log[P(w/pos)/P(w/neg)]\r\n",
        "\r\n",
        "\r\n",
        "\r\n"
      ]
    },
    {
      "cell_type": "markdown",
      "metadata": {
        "id": "Uq2gf0gAVTEL"
      },
      "source": [
        "# Define lookup()\r\n",
        "用以查找freq中對應(word,label)的freqency\r\n"
      ]
    },
    {
      "cell_type": "code",
      "metadata": {
        "id": "r142QN4BUDSq"
      },
      "source": [
        "def lookup(freqs, word, label):\r\n",
        "    '''\r\n",
        "    Input:\r\n",
        "        freqs: 你的word frequency dictionary\r\n",
        "        word: 欲查詢的字詞\r\n",
        "        label: 欲查詢字詞的標籤(1:pos/0:neg)\r\n",
        "    Output:\r\n",
        "        n: 出現頻率\r\n",
        "    '''\r\n",
        "    n = 0  \r\n",
        "\r\n",
        "    pair = (word, label)\r\n",
        "    if (pair in freqs):\r\n",
        "        n = freqs[pair]\r\n",
        "\r\n",
        "    return n"
      ],
      "execution_count": 6,
      "outputs": []
    },
    {
      "cell_type": "code",
      "metadata": {
        "id": "-c4R7p-L2vxd"
      },
      "source": [
        "def naive_bayes(freqs, train_x, train_y):\r\n",
        "    '''\r\n",
        "    Input:\r\n",
        "        freqs: 預處理的word frequency dictionary\r\n",
        "        train_x: X訓練集(tweets)\r\n",
        "        train_y: Y訓練集(labels)\r\n",
        "    Output:\r\n",
        "        logprior: 正負向情緒資料集比率(取log)\r\n",
        "        loglikelihood: 條件正向機率/條件負向機率 取log\r\n",
        "    '''\r\n",
        "    loglikelihood = {}\r\n",
        "    logprior = 0\r\n",
        "\r\n",
        "    # 計算freqs中的字詞數量(V)\r\n",
        "    vocab = set([pair[0] for pair in freqs.keys()])\r\n",
        "    V = len(vocab)\r\n",
        "\r\n",
        "    # 計算pos、neg的總頻率\r\n",
        "    N_pos = N_neg= 0\r\n",
        "    for pair in freqs.keys():        \r\n",
        "        if pair[1] > 0:\r\n",
        "            N_pos += freqs[pair]       \r\n",
        "        else:\r\n",
        "            N_neg += freqs[pair]\r\n",
        "\r\n",
        "    # 計算pos/neg tweet數量\r\n",
        "    # 使用filter，將序列中的元素丟進函式判斷，取出回傳True的元素，透過list組合成新的list\r\n",
        "    # filter(函式,序列)，lambda表一匿名函式\r\n",
        "    D_pos = (len(list(filter(lambda x: x > 0, train_y))))\r\n",
        "    D_neg = (len(list(filter(lambda x: x <= 0, train_y))))\r\n",
        "\r\n",
        "    # 計算logprior\r\n",
        "    logprior = np.log(D_pos) - np.log(D_neg)\r\n",
        "\r\n",
        "    for word in vocab:\r\n",
        "        # get the positive and negative frequency of the word\r\n",
        "        freq_pos = lookup(freqs,word,1)\r\n",
        "        freq_neg = lookup(freqs,word,0)\r\n",
        "\r\n",
        "        # 計算P(w|calss)\r\n",
        "        p_w_pos = (freq_pos + 1) / (N_pos + V)\r\n",
        "        p_w_neg = (freq_neg + 1) / (N_neg + V)\r\n",
        "\r\n",
        "        # 計算loglikelihood\r\n",
        "        loglikelihood[word] = np.log(p_w_pos/p_w_neg)\r\n",
        "\r\n",
        "\r\n",
        "    return logprior, loglikelihood"
      ],
      "execution_count": 7,
      "outputs": []
    },
    {
      "cell_type": "code",
      "metadata": {
        "colab": {
          "base_uri": "https://localhost:8080/"
        },
        "id": "DaHB_T18Ca6r",
        "outputId": "debf8fcd-7ddb-4d4e-a4ab-b3b6d709769c"
      },
      "source": [
        "# 測試訓練結果\r\n",
        "logprior, loglikelihood = naive_bayes(freqs, train_x, train_y)\r\n",
        "print(logprior)\r\n",
        "print(len(loglikelihood))"
      ],
      "execution_count": 8,
      "outputs": [
        {
          "output_type": "stream",
          "text": [
            "0.0\n",
            "9089\n"
          ],
          "name": "stdout"
        }
      ]
    },
    {
      "cell_type": "markdown",
      "metadata": {
        "id": "ajIVU1laDk8j"
      },
      "source": [
        "# Define predict()\r\n",
        "p=logprior+Σlikelihood"
      ]
    },
    {
      "cell_type": "code",
      "metadata": {
        "id": "f0s6u-_wDoIP"
      },
      "source": [
        "def predict(tweet,logprior,loglikelihood):\r\n",
        "  '''\r\n",
        "\r\n",
        "  Input:\r\n",
        "    tweet:一句話\r\n",
        "    logprior:你的Dpos、Dneg比率(取log)\r\n",
        "    loglikelihood:你的freq dictionary中的字詞 & 該字詞的loglikelihood\r\n",
        "  Output:\r\n",
        "    p:logprior+Σlikelihood\r\n",
        "\r\n",
        "  '''\r\n",
        "\r\n",
        "  word_l = process_tweet(tweet)\r\n",
        "  p = 0\r\n",
        "  p += logprior\r\n",
        "\r\n",
        "  # 計算p\r\n",
        "  for word in word_l:\r\n",
        "    if word in loglikelihood:\r\n",
        "      p += loglikelihood[word]\r\n",
        "  \r\n",
        "  return p"
      ],
      "execution_count": 9,
      "outputs": []
    },
    {
      "cell_type": "markdown",
      "metadata": {
        "id": "N9fnIq7yV9Ey"
      },
      "source": [
        "# Define score()\r\n",
        "用以計算Naive Bayes的分數"
      ]
    },
    {
      "cell_type": "code",
      "metadata": {
        "id": "zqEZ_N_fO63T"
      },
      "source": [
        "def score(test_x,test_y,logprior,loglikelihood):\r\n",
        "  acc = 0\r\n",
        "  y_hats=[]\r\n",
        "  for tweet in test_x:\r\n",
        "    if predict(tweet, logprior,loglikelihood) >0:\r\n",
        "      y_hat_i = 1\r\n",
        "    else:\r\n",
        "      y_hat_i = 0\r\n",
        "    y_hats.append(y_hat_i)\r\n",
        "\r\n",
        "  loss = np.mean(np.absolute(y_hats-test_y))\r\n",
        "  acc = 1-loss\r\n",
        "\r\n",
        "  return acc "
      ],
      "execution_count": 10,
      "outputs": []
    },
    {
      "cell_type": "code",
      "metadata": {
        "colab": {
          "base_uri": "https://localhost:8080/"
        },
        "id": "lWvRJmtXPg_3",
        "outputId": "3469367f-2823-48ee-cb61-29af932245fb"
      },
      "source": [
        "print(score(test_x,test_y,logprior,loglikelihood))"
      ],
      "execution_count": 11,
      "outputs": [
        {
          "output_type": "stream",
          "text": [
            "0.994\n"
          ],
          "name": "stdout"
        }
      ]
    },
    {
      "cell_type": "markdown",
      "metadata": {
        "id": "ysd4eG3mWEkb"
      },
      "source": [
        "# 測試訓練成果"
      ]
    },
    {
      "cell_type": "code",
      "metadata": {
        "colab": {
          "base_uri": "https://localhost:8080/"
        },
        "id": "ZWvsFNmsGIdY",
        "outputId": "6a9df57d-28ac-4f1d-c283-e30205181607"
      },
      "source": [
        "# 測試predict()\r\n",
        "my_tweet = 'She is crying.'\r\n",
        "p = predict(my_tweet,logprior,loglikelihood)\r\n",
        "print(\"p=\",p)\r\n",
        "if p>0:\r\n",
        "  print(\"This is postive.\")\r\n",
        "else:\r\n",
        "  print(\"This is negative.\")"
      ],
      "execution_count": 12,
      "outputs": [
        {
          "output_type": "stream",
          "text": [
            "p= -1.5787081600137383\n",
            "This is negative.\n"
          ],
          "name": "stdout"
        }
      ]
    }
  ]
}